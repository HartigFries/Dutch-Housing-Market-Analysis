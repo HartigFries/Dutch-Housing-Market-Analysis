{
 "cells": [
  {
   "cell_type": "code",
   "execution_count": null,
   "metadata": {},
   "outputs": [],
   "source": [
    "import pandas as pd\n",
    "import numpy as np\n",
    "import matplotlib.pyplot as plt\n",
    "import seaborn as sns\n",
    "import re\n",
    "import geopandas as gpd\n"
   ]
  },
  {
   "cell_type": "code",
   "execution_count": null,
   "metadata": {},
   "outputs": [],
   "source": [
    "bf = pd.read_csv('comb_myfunda[1-1800].csv')\n",
    "org_len = bf.__len__()\n",
    "print(org_len)\n",
    "bf.head(3)"
   ]
  },
  {
   "cell_type": "code",
   "execution_count": null,
   "metadata": {},
   "outputs": [],
   "source": [
    "cities_df = pd.read_csv('cities.csv')\n",
    "\n",
    "cities_df.info()"
   ]
  },
  {
   "cell_type": "code",
   "execution_count": null,
   "metadata": {},
   "outputs": [],
   "source": [
    "bf.info()"
   ]
  },
  {
   "cell_type": "code",
   "execution_count": null,
   "metadata": {},
   "outputs": [],
   "source": [
    "df = bf.drop(bf[bf['Price'].isna() | bf['Energylabel'].isna() | bf['Build Year'].isin(['Voor 1906','Na 2020'])].index).reset_index(drop=True)\n",
    "\n",
    "dropped = bf[bf['Price'].isna() | bf['Energylabel'].isna()  | bf['Build Year'].isin(['Voor 1906','Na 2020'])].__len__()\n",
    "print(f'Percent dropped: {dropped/len(bf)*100:.2f}%')"
   ]
  },
  {
   "cell_type": "code",
   "execution_count": null,
   "metadata": {},
   "outputs": [],
   "source": [
    "df.info()"
   ]
  },
  {
   "cell_type": "code",
   "execution_count": null,
   "metadata": {},
   "outputs": [],
   "source": [
    "# Processing\n",
    "\n",
    "## Province - Nothing\n",
    "\n",
    "## City\n",
    "df['City'] = df['City'].str.split(' \\(', expand=True)[0]\n",
    "df['City'] = df['City'].str.replace('&#39;', \"'\").str.replace('&#226;', 'â').str.replace('&#235;', 'ë').str.replace('&#251;','û').str.replace('&#233;','é')\n",
    "\n",
    "## Street - Nothing\n",
    "\n",
    "## Price\n",
    "df['Price'] = df['Price'].astype(np.uint32);\n",
    "\n",
    "## Residential house type\n",
    "apartment_tags = df['Residential house type'][df['Residential house type'].str.contains('flat|portiek|appartement|Portiek')].unique()\n",
    "\n",
    "                                                                                                            #? Worse way:\n",
    "df['Apartment'] = df['Residential house type'].isin(apartment_tags).astype(int)\n",
    "df['Detached'] = 1 - df['Apartment']                                                                       # def check_type(row):\n",
    "                                                                                                            #     global appartment_tags\n",
    "                                                                                                            #     if row['Residential house type'] not in appartment_tags:\n",
    "                                                                                                            #         row['Detached'] = 1\n",
    "                                                                                                            #         row['Appartment'] = 0\n",
    "                                                                                                            #     else:\n",
    "                                                                                                            #         row['Detached'] = 0\n",
    "                                                                                                            #         row['Appartment'] = 1\n",
    "                                                                                                            #     return row\n",
    "                                                                                                            # df.apply(check_type, axis=1)\n",
    "\n",
    "##  Age\n",
    "build_type = {name: val for val, name in enumerate(df['Age'].unique())}\n",
    "build_type_reverse = {item: key for key, item in build_type.items()}\n",
    "\n",
    "df['Age'] = df['Age'].apply(lambda x:build_type[x]).astype(np.uint8)\n",
    "df.rename(columns={'Age': 'New'}, inplace=True)\n",
    "\n",
    "## Build Year\n",
    "df['Build Year'][df['Build Year'].str.len() > 4] = df['Build Year'][df['Build Year'].str.len() > 4].str.split('-', expand=True).astype(int).mean(axis=1).astype(int);\n",
    "df['Build Year'] = df['Build Year'].astype(np.uint16);\n",
    "\n",
    "## Number of Rooms\n",
    "def get_room_counts(x):\n",
    "    matches = re.findall('(\\d*)\\s', x)\n",
    "    if len(matches) < 2:\n",
    "        return pd.Series([matches[0], 0])\n",
    "    else:\n",
    "        return pd.Series([matches[0], matches[2]])\n",
    "\n",
    "df[['Total Rooms', 'Bedrooms Count']] = df['Number of Rooms'].apply(get_room_counts)\n",
    "df['Total Rooms'] = df['Total Rooms'].astype(int)\n",
    "df['Bedrooms Count'] = df['Bedrooms Count'].astype(int)\n",
    "\n",
    "### Floors\n",
    "df['Number of Floors'] = df['Number of Floors'].replace(dict.fromkeys(['een','en',',',' '], ''), regex=True)\n",
    "df[['Floors', 'Extra Floors']] = df['Number of Floors'].str.split('woonlag|woonlaag', expand=True)\n",
    "df = df.join(pd.get_dummies(df['Extra Floors'][df['Extra Floors'] != '']).set_axis(['kelder','vliering','vliering en kelder','zolder','zolder en kelder','zolder met vliering','zolder met vliering en kelder'], axis=1))\n",
    "df[['kelder','vliering','vliering en kelder','zolder','zolder en kelder','zolder met vliering','zolder met vliering en kelder']] = df[['kelder','vliering','vliering en kelder','zolder','zolder en kelder','zolder met vliering','zolder met vliering en kelder']].replace(np.nan, 0)\n",
    "\n",
    "df['kelder'] = df['kelder'] + df['zolder en kelder'] + df['vliering en kelder'] + df['zolder met vliering en kelder']\n",
    "df['vliering'] = df['vliering'] + df['vliering en kelder'] + df['zolder met vliering'] + df['zolder met vliering en kelder']\n",
    "df['zolder'] = df['zolder'] + df['zolder en kelder'] + df['zolder met vliering'] + df['zolder met vliering en kelder']\n",
    "\n",
    "df['Floors'] = df['Floors'].astype(np.uint8)\n",
    "\n",
    "## Number of Toilets\n",
    "df[['Bathrooms', 'Separate Toilets']] = df['Number of Toilets'].str.replace(' aparte toiletten| apart toilet', '').str.split(' badkamer en | badkamers en | badkamer| badkamers',expand=True)\n",
    "df['Bathrooms'][df['Bathrooms'].isna()] = 0\n",
    "df['Bathrooms'] = df['Bathrooms'].astype(int)\n",
    "df['Separate Toilets'][(df['Separate Toilets'] == '') | (df['Separate Toilets'] == 's')|(df['Separate Toilets'].isna())] = 0\n",
    "df['Separate Toilets'] = df['Separate Toilets'].astype(int)\n",
    "df['Number of Toilets'] = df['Bathrooms'] + df['Separate Toilets']\n",
    "\n",
    "\n",
    "\n",
    "## Energy label\n",
    "energy_label = {'Niet verplicht': 0, 'G': 1, 'F': 2, 'E': 3, 'D': 4, 'C': 5, 'B': 6, 'A++++': 11, 'A+++': 10, 'A++': 9, 'A+': 8, 'A': 7, 'A+++++': 12}\n",
    "energy_label_reverse = {item: key for key, item in energy_label.items()}\n",
    "\n",
    "df['Energylabel'] = df['Energylabel'].apply(lambda x: energy_label[x]).astype(np.uint8)\n",
    "\n",
    "## Garage\n",
    "df['Garage'][df['Garage'].isna()] = 0\n",
    "df['Garage'][~df['Garage'].isin([0])] = 1\n",
    "df['Garage'] = df['Garage'].astype(np.int8)\n",
    "\n",
    "## Backyardsize\n",
    "from math import prod\n",
    "\n",
    "df['Backyard size'][df['Backyard size'].isna()] = '0'\n",
    "df['Backyard size'] = df['Backyard size'].str.split(' m² \\(', expand=True)[0].str.replace('.', '').str.replace(',', '.')\n",
    "df['Backyard size'][df['Backyard size'].str.contains('meter')] = df['Backyard size'][df['Backyard size'].str.contains('meter')].str.findall('[\\d\\.]+').apply(lambda x: prod([float(j) for j in x]))\n",
    "df['Backyard size'] = df['Backyard size'].astype(int)\n",
    "\n",
    "## LAt Lon\n",
    "df['Lat'] = df['City'].map(cities_df.set_index('City')['Lat'])\n",
    "df['Lon'] = df['City'].map(cities_df.set_index('City')['Lon'])\n",
    "\n",
    "\n",
    "del df['Number of Floors']\n",
    "del df['Residential house type']\n",
    "\n",
    "\n",
    "df.info()"
   ]
  },
  {
   "cell_type": "code",
   "execution_count": null,
   "metadata": {},
   "outputs": [],
   "source": [
    "provinces = gpd.read_file('NLD_adm1.shp')\n",
    "provinces = provinces.iloc[[0,1,2,3,4,6,7,8,9,10,11,13], :].reset_index(drop=True)\n",
    "merged = provinces.join(pd.DataFrame(df.groupby('Province')['Price'].mean()).reset_index(drop=True))"
   ]
  },
  {
   "cell_type": "code",
   "execution_count": null,
   "metadata": {},
   "outputs": [],
   "source": [
    "fig, ax = plt.subplots(figsize=(9, 10))\n",
    "\n",
    "cutoff = df['Price'].mean()\n",
    "\n",
    "\n",
    "sns.scatterplot(x=df['Lon'], y=df['Lat'], data=df[df['Price'] <= cutoff], hue=df[df['Price'] <=cutoff]['Price'], palette='winter', alpha=0.7, edgecolor='none', ax=ax)\n",
    "sns.scatterplot(x=df['Lon'], y=df['Lat'], data=df[df['Price'] >= cutoff], hue=df[df['Price'] >=cutoff]['Price'], palette='Wistia', alpha=0.35, edgecolor='none', ax=ax)\n",
    "\n",
    "# city_data = df.groupby('City').agg({'Lon': 'mean', 'Lat': 'mean', 'Price': 'mean'}).reset_index(drop=True)\n",
    "\n",
    "# plt.figure(figsize=(10,8))\n",
    "# sns.scatterplot(x=city_data['Lon'], y=city_data['Lat'], data=city_data[city_data['Price'] <= cutoff], hue=city_data['Price'].apply(lambda x: x <= cutoff)\n",
    "# , palette='winter', edgecolor='none', ax =ax)\n",
    "\n"
   ]
  },
  {
   "cell_type": "code",
   "execution_count": null,
   "metadata": {},
   "outputs": [],
   "source": [
    "fig, ax = plt.subplots(figsize=(9, 10))\n",
    "merged.plot(column=\"Price\", cmap=\"OrRd\", linewidth=0.7, ax=ax, edgecolor=\"white\", legend=True)\n",
    "ax.set_title(\"Dutch Average House Prices by Province\", fontsize=16);\n",
    "ax.set_axis_off()\n",
    "plt.show()\n",
    "\n",
    "df.groupby('Province')['Price'].count().plot(kind='bar', title='Number of houses for sale per province')\n"
   ]
  },
  {
   "cell_type": "code",
   "execution_count": null,
   "metadata": {},
   "outputs": [],
   "source": [
    "plt.figure(figsize=(15,10))\n",
    "corr_data = df.select_dtypes(exclude=['object']).corr().round(2)\n",
    "mask = np.zeros_like(corr_data,dtype=np.bool_)\n",
    "mask[np.triu_indices_from(mask)] = True\n",
    "\n",
    "\n",
    "sns.heatmap(corr_data,mask=mask, annot=True)"
   ]
  },
  {
   "cell_type": "code",
   "execution_count": null,
   "metadata": {},
   "outputs": [],
   "source": [
    "sx = sns.displot(df['Price'])\n",
    "plt.axvline(x=df['Price'].mean(),color='red', linestyle='--', linewidth=2)\n",
    "\n",
    "sx.figure.set_figwidth(25)"
   ]
  },
  {
   "cell_type": "code",
   "execution_count": null,
   "metadata": {},
   "outputs": [],
   "source": [
    "diff = df.groupby('Apartment')['Price'].mean()\n",
    "if diff[0] > diff[1]:\n",
    "    print(f'The average price of an apartment is {(diff[0] - diff[1])/max(diff[0], diff[1])*100:.2f}% cheaper than the average price of a detached house')\n",
    "else:\n",
    "    print(f'The average price of a detached house is {(diff[0] - diff[1])/max(diff[0], diff[1])*100:.2f}% cheaper than the average price of an apartment')    \n"
   ]
  },
  {
   "cell_type": "code",
   "execution_count": null,
   "metadata": {},
   "outputs": [],
   "source": [
    "af = pd.DataFrame((df.groupby(['City']).filter(lambda x: set(x['Apartment']) == {0, 1})).groupby(['City', 'Apartment'])[['Price']].mean())\n",
    "af1 = pd.pivot_table(af, index=['City'], columns=['Apartment'])\n",
    "\n",
    "pop_by_province = ['Emmen', 'Almere', 'Leeuwarden', 'Nijmegen', 'Groningen', 'Maastricht', 'Eindhoven', 'Amsterdam', 'Enschede', 'Rotterdam', 'Utrecht', 'Terneuzen']\n",
    "\n",
    "af1.loc[pop_by_province].plot(kind='bar', figsize=(10,7), title='House Price Detached vs Apartment in most populous city per province');"
   ]
  },
  {
   "cell_type": "code",
   "execution_count": null,
   "metadata": {},
   "outputs": [],
   "source": [
    "byc = df.groupby('Build Year')['Energylabel'].count()[df.groupby('Build Year')['Energylabel'].count() > 10]\n",
    "byc.plot(figsize=(15,7), xticks=byc.index[::10], title='Number of listings of buildings by year')\n",
    "plt.axvline(x=1939,color='red', linestyle='--', linewidth=1)\n",
    "plt.text(1936, 350, 'WW2', rotation=90, color='red');\n",
    "plt.axvline(x=1980,color='red', linestyle='--', linewidth=1);\n",
    "plt.text(1977, 10, 'Dutch Housing Crisis', rotation=90, color='red');\n",
    "plt.axvline(x=2008,color='red', linestyle='--', linewidth=1)\n",
    "plt.text(2005, 50, '2008 Financial Crisis', rotation=90, color='red');"
   ]
  },
  {
   "cell_type": "code",
   "execution_count": null,
   "metadata": {},
   "outputs": [],
   "source": [
    "bye = df.groupby('Build Year')['Energylabel'].mean()[df.groupby('Build Year')['Energylabel'].count() > 10]\n",
    "byex = bye.plot(figsize=(15,7), xticks=bye.index[::10], title='Average energy label by year')\n",
    "byex.set_yticklabels(pd.Series(byex.get_yticks()).map(lambda x: energy_label_reverse[x]));"
   ]
  },
  {
   "cell_type": "code",
   "execution_count": null,
   "metadata": {},
   "outputs": [],
   "source": [
    "temp = df[df['Detached'] == 1]['Backyard size'].mean().round(2)\n",
    "\n",
    "print(f'Average backyard size for a Detached house is {temp} sqaure meters')"
   ]
  }
 ],
 "metadata": {
  "kernelspec": {
   "display_name": "Python 3",
   "language": "python",
   "name": "python3"
  },
  "language_info": {
   "codemirror_mode": {
    "name": "ipython",
    "version": 3
   },
   "file_extension": ".py",
   "mimetype": "text/x-python",
   "name": "python",
   "nbconvert_exporter": "python",
   "pygments_lexer": "ipython3",
   "version": "3.10.5"
  },
  "orig_nbformat": 4
 },
 "nbformat": 4,
 "nbformat_minor": 2
}
